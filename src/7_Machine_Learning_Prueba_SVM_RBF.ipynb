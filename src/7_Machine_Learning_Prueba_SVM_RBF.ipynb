{
  "cells": [
    {
      "cell_type": "markdown",
      "metadata": {
        "id": "mqbSKXA6VrqC"
      },
      "source": [
        "# Proyecto Equipo 5\n",
        "# Uso del Módulo 4 - Machine Learning\n",
        "## Prueba SVM con kernel RBF"
      ]
    },
    {
      "cell_type": "code",
      "execution_count": 1,
      "metadata": {
        "id": "WD2UHuQ2VrqD"
      },
      "outputs": [],
      "source": [
        "import pandas as pd\n",
        "import numpy as np\n",
        "from sklearn.model_selection import KFold\n",
        "from sklearn.metrics import confusion_matrix\n",
        "from sklearn import svm\n",
        "import warnings\n",
        "warnings.filterwarnings(\"ignore\")"
      ]
    },
    {
      "cell_type": "markdown",
      "metadata": {
        "id": "0BnLJoldVrqD"
      },
      "source": [
        "## Lectura y organización de los datos"
      ]
    },
    {
      "cell_type": "code",
      "execution_count": 2,
      "metadata": {
        "colab": {
          "base_uri": "https://localhost:8080/",
          "height": 411
        },
        "id": "trtK4L_iVrqE",
        "outputId": "cf2fa6da-30f1-4095-9a17-73afe963b6fb"
      },
      "outputs": [
        {
          "data": {
            "text/html": [
              "<div>\n",
              "<style scoped>\n",
              "    .dataframe tbody tr th:only-of-type {\n",
              "        vertical-align: middle;\n",
              "    }\n",
              "\n",
              "    .dataframe tbody tr th {\n",
              "        vertical-align: top;\n",
              "    }\n",
              "\n",
              "    .dataframe thead th {\n",
              "        text-align: right;\n",
              "    }\n",
              "</style>\n",
              "<table border=\"1\" class=\"dataframe\">\n",
              "  <thead>\n",
              "    <tr style=\"text-align: right;\">\n",
              "      <th></th>\n",
              "      <th>ID</th>\n",
              "      <th>FLAG_OWN_CAR</th>\n",
              "      <th>FLAG_OWN_REALTY</th>\n",
              "      <th>AMT_INCOME_TOTAL</th>\n",
              "      <th>NAME_HOUSING_TYPE</th>\n",
              "      <th>MONTHS_EMPLOYED</th>\n",
              "      <th>timespan</th>\n",
              "      <th>paid_off</th>\n",
              "      <th>pastdue_1-29</th>\n",
              "      <th>pastdue_30-59</th>\n",
              "      <th>pastdue_60-89</th>\n",
              "      <th>pastdue_90-119</th>\n",
              "      <th>pastdue_120-149</th>\n",
              "      <th>pastdue_over_150</th>\n",
              "      <th>no_loan</th>\n",
              "      <th>Score</th>\n",
              "      <th>label</th>\n",
              "      <th>bin_labels</th>\n",
              "    </tr>\n",
              "  </thead>\n",
              "  <tbody>\n",
              "    <tr>\n",
              "      <th>0</th>\n",
              "      <td>5008804</td>\n",
              "      <td>1</td>\n",
              "      <td>1</td>\n",
              "      <td>427500.0</td>\n",
              "      <td>Rented apartment</td>\n",
              "      <td>151</td>\n",
              "      <td>16</td>\n",
              "      <td>13</td>\n",
              "      <td>1</td>\n",
              "      <td>1</td>\n",
              "      <td>0</td>\n",
              "      <td>0</td>\n",
              "      <td>0</td>\n",
              "      <td>0</td>\n",
              "      <td>1</td>\n",
              "      <td>783.541667</td>\n",
              "      <td>4</td>\n",
              "      <td>1</td>\n",
              "    </tr>\n",
              "    <tr>\n",
              "      <th>1</th>\n",
              "      <td>5008805</td>\n",
              "      <td>1</td>\n",
              "      <td>1</td>\n",
              "      <td>427500.0</td>\n",
              "      <td>Rented apartment</td>\n",
              "      <td>151</td>\n",
              "      <td>15</td>\n",
              "      <td>12</td>\n",
              "      <td>1</td>\n",
              "      <td>1</td>\n",
              "      <td>0</td>\n",
              "      <td>0</td>\n",
              "      <td>0</td>\n",
              "      <td>0</td>\n",
              "      <td>1</td>\n",
              "      <td>774.375000</td>\n",
              "      <td>4</td>\n",
              "      <td>1</td>\n",
              "    </tr>\n",
              "    <tr>\n",
              "      <th>2</th>\n",
              "      <td>5008806</td>\n",
              "      <td>1</td>\n",
              "      <td>1</td>\n",
              "      <td>112500.0</td>\n",
              "      <td>House / apartment</td>\n",
              "      <td>37</td>\n",
              "      <td>30</td>\n",
              "      <td>7</td>\n",
              "      <td>7</td>\n",
              "      <td>0</td>\n",
              "      <td>0</td>\n",
              "      <td>0</td>\n",
              "      <td>0</td>\n",
              "      <td>0</td>\n",
              "      <td>16</td>\n",
              "      <td>733.125000</td>\n",
              "      <td>3</td>\n",
              "      <td>0</td>\n",
              "    </tr>\n",
              "    <tr>\n",
              "      <th>3</th>\n",
              "      <td>5008808</td>\n",
              "      <td>0</td>\n",
              "      <td>1</td>\n",
              "      <td>270000.0</td>\n",
              "      <td>House / apartment</td>\n",
              "      <td>101</td>\n",
              "      <td>5</td>\n",
              "      <td>0</td>\n",
              "      <td>2</td>\n",
              "      <td>0</td>\n",
              "      <td>0</td>\n",
              "      <td>0</td>\n",
              "      <td>0</td>\n",
              "      <td>0</td>\n",
              "      <td>3</td>\n",
              "      <td>612.583333</td>\n",
              "      <td>2</td>\n",
              "      <td>0</td>\n",
              "    </tr>\n",
              "    <tr>\n",
              "      <th>4</th>\n",
              "      <td>5008809</td>\n",
              "      <td>0</td>\n",
              "      <td>1</td>\n",
              "      <td>270000.0</td>\n",
              "      <td>House / apartment</td>\n",
              "      <td>101</td>\n",
              "      <td>5</td>\n",
              "      <td>0</td>\n",
              "      <td>0</td>\n",
              "      <td>0</td>\n",
              "      <td>0</td>\n",
              "      <td>0</td>\n",
              "      <td>0</td>\n",
              "      <td>0</td>\n",
              "      <td>5</td>\n",
              "      <td>612.583333</td>\n",
              "      <td>2</td>\n",
              "      <td>0</td>\n",
              "    </tr>\n",
              "    <tr>\n",
              "      <th>...</th>\n",
              "      <td>...</td>\n",
              "      <td>...</td>\n",
              "      <td>...</td>\n",
              "      <td>...</td>\n",
              "      <td>...</td>\n",
              "      <td>...</td>\n",
              "      <td>...</td>\n",
              "      <td>...</td>\n",
              "      <td>...</td>\n",
              "      <td>...</td>\n",
              "      <td>...</td>\n",
              "      <td>...</td>\n",
              "      <td>...</td>\n",
              "      <td>...</td>\n",
              "      <td>...</td>\n",
              "      <td>...</td>\n",
              "      <td>...</td>\n",
              "      <td>...</td>\n",
              "    </tr>\n",
              "    <tr>\n",
              "      <th>36452</th>\n",
              "      <td>5150482</td>\n",
              "      <td>1</td>\n",
              "      <td>1</td>\n",
              "      <td>157500.0</td>\n",
              "      <td>House / apartment</td>\n",
              "      <td>57</td>\n",
              "      <td>18</td>\n",
              "      <td>6</td>\n",
              "      <td>12</td>\n",
              "      <td>0</td>\n",
              "      <td>0</td>\n",
              "      <td>0</td>\n",
              "      <td>0</td>\n",
              "      <td>0</td>\n",
              "      <td>0</td>\n",
              "      <td>850.000000</td>\n",
              "      <td>5</td>\n",
              "      <td>1</td>\n",
              "    </tr>\n",
              "    <tr>\n",
              "      <th>36453</th>\n",
              "      <td>5150483</td>\n",
              "      <td>1</td>\n",
              "      <td>1</td>\n",
              "      <td>157500.0</td>\n",
              "      <td>House / apartment</td>\n",
              "      <td>57</td>\n",
              "      <td>18</td>\n",
              "      <td>0</td>\n",
              "      <td>0</td>\n",
              "      <td>0</td>\n",
              "      <td>0</td>\n",
              "      <td>0</td>\n",
              "      <td>0</td>\n",
              "      <td>0</td>\n",
              "      <td>18</td>\n",
              "      <td>753.750000</td>\n",
              "      <td>4</td>\n",
              "      <td>1</td>\n",
              "    </tr>\n",
              "    <tr>\n",
              "      <th>36454</th>\n",
              "      <td>5150484</td>\n",
              "      <td>1</td>\n",
              "      <td>1</td>\n",
              "      <td>157500.0</td>\n",
              "      <td>House / apartment</td>\n",
              "      <td>57</td>\n",
              "      <td>13</td>\n",
              "      <td>1</td>\n",
              "      <td>12</td>\n",
              "      <td>0</td>\n",
              "      <td>0</td>\n",
              "      <td>0</td>\n",
              "      <td>0</td>\n",
              "      <td>0</td>\n",
              "      <td>0</td>\n",
              "      <td>804.166667</td>\n",
              "      <td>5</td>\n",
              "      <td>1</td>\n",
              "    </tr>\n",
              "    <tr>\n",
              "      <th>36455</th>\n",
              "      <td>5150485</td>\n",
              "      <td>1</td>\n",
              "      <td>1</td>\n",
              "      <td>157500.0</td>\n",
              "      <td>House / apartment</td>\n",
              "      <td>57</td>\n",
              "      <td>2</td>\n",
              "      <td>0</td>\n",
              "      <td>2</td>\n",
              "      <td>0</td>\n",
              "      <td>0</td>\n",
              "      <td>0</td>\n",
              "      <td>0</td>\n",
              "      <td>0</td>\n",
              "      <td>0</td>\n",
              "      <td>703.333333</td>\n",
              "      <td>3</td>\n",
              "      <td>0</td>\n",
              "    </tr>\n",
              "    <tr>\n",
              "      <th>36456</th>\n",
              "      <td>5150487</td>\n",
              "      <td>1</td>\n",
              "      <td>0</td>\n",
              "      <td>202500.0</td>\n",
              "      <td>House / apartment</td>\n",
              "      <td>72</td>\n",
              "      <td>30</td>\n",
              "      <td>30</td>\n",
              "      <td>0</td>\n",
              "      <td>0</td>\n",
              "      <td>0</td>\n",
              "      <td>0</td>\n",
              "      <td>0</td>\n",
              "      <td>0</td>\n",
              "      <td>0</td>\n",
              "      <td>817.000000</td>\n",
              "      <td>5</td>\n",
              "      <td>1</td>\n",
              "    </tr>\n",
              "  </tbody>\n",
              "</table>\n",
              "<p>36457 rows × 18 columns</p>\n",
              "</div>"
            ],
            "text/plain": [
              "            ID  FLAG_OWN_CAR  FLAG_OWN_REALTY  AMT_INCOME_TOTAL  \\\n",
              "0      5008804             1                1          427500.0   \n",
              "1      5008805             1                1          427500.0   \n",
              "2      5008806             1                1          112500.0   \n",
              "3      5008808             0                1          270000.0   \n",
              "4      5008809             0                1          270000.0   \n",
              "...        ...           ...              ...               ...   \n",
              "36452  5150482             1                1          157500.0   \n",
              "36453  5150483             1                1          157500.0   \n",
              "36454  5150484             1                1          157500.0   \n",
              "36455  5150485             1                1          157500.0   \n",
              "36456  5150487             1                0          202500.0   \n",
              "\n",
              "       NAME_HOUSING_TYPE  MONTHS_EMPLOYED  timespan  paid_off  pastdue_1-29  \\\n",
              "0       Rented apartment              151        16        13             1   \n",
              "1       Rented apartment              151        15        12             1   \n",
              "2      House / apartment               37        30         7             7   \n",
              "3      House / apartment              101         5         0             2   \n",
              "4      House / apartment              101         5         0             0   \n",
              "...                  ...              ...       ...       ...           ...   \n",
              "36452  House / apartment               57        18         6            12   \n",
              "36453  House / apartment               57        18         0             0   \n",
              "36454  House / apartment               57        13         1            12   \n",
              "36455  House / apartment               57         2         0             2   \n",
              "36456  House / apartment               72        30        30             0   \n",
              "\n",
              "       pastdue_30-59  pastdue_60-89  pastdue_90-119  pastdue_120-149  \\\n",
              "0                  1              0               0                0   \n",
              "1                  1              0               0                0   \n",
              "2                  0              0               0                0   \n",
              "3                  0              0               0                0   \n",
              "4                  0              0               0                0   \n",
              "...              ...            ...             ...              ...   \n",
              "36452              0              0               0                0   \n",
              "36453              0              0               0                0   \n",
              "36454              0              0               0                0   \n",
              "36455              0              0               0                0   \n",
              "36456              0              0               0                0   \n",
              "\n",
              "       pastdue_over_150  no_loan       Score  label  bin_labels  \n",
              "0                     0        1  783.541667      4           1  \n",
              "1                     0        1  774.375000      4           1  \n",
              "2                     0       16  733.125000      3           0  \n",
              "3                     0        3  612.583333      2           0  \n",
              "4                     0        5  612.583333      2           0  \n",
              "...                 ...      ...         ...    ...         ...  \n",
              "36452                 0        0  850.000000      5           1  \n",
              "36453                 0       18  753.750000      4           1  \n",
              "36454                 0        0  804.166667      5           1  \n",
              "36455                 0        0  703.333333      3           0  \n",
              "36456                 0        0  817.000000      5           1  \n",
              "\n",
              "[36457 rows x 18 columns]"
            ]
          },
          "execution_count": 2,
          "metadata": {},
          "output_type": "execute_result"
        }
      ],
      "source": [
        "df = pd.read_csv('../archive/data_features.csv')\n",
        "df"
      ]
    },
    {
      "cell_type": "code",
      "execution_count": 3,
      "metadata": {
        "colab": {
          "base_uri": "https://localhost:8080/"
        },
        "id": "6Tazs0iKVrqE",
        "outputId": "f100f4e7-8b09-40d6-abef-03a99808d6eb"
      },
      "outputs": [
        {
          "name": "stdout",
          "output_type": "stream",
          "text": [
            "Tamaño X: (36457, 5)\n",
            "Tamaño y: (36457,)\n"
          ]
        }
      ],
      "source": [
        "#Asignación de características y etiquetas a X y Y respectivamente\n",
        "X = df[['FLAG_OWN_CAR','FLAG_OWN_REALTY','AMT_INCOME_TOTAL','MONTHS_EMPLOYED','timespan']].values\n",
        "y = df['bin_labels'].values\n",
        "print(f'Tamaño X: {X.shape}\\nTamaño y: {y.shape}')"
      ]
    },
    {
      "cell_type": "markdown",
      "metadata": {
        "id": "UG51TVrJVrqE"
      },
      "source": [
        "## Selección de sets de entrenamiento y prueba por K-fold, 5 iteraciones"
      ]
    },
    {
      "cell_type": "code",
      "execution_count": 4,
      "metadata": {
        "colab": {
          "base_uri": "https://localhost:8080/"
        },
        "id": "4AQdmNQDVrqF",
        "outputId": "033273fc-fbd2-49c9-eff9-07c233f9226a"
      },
      "outputs": [
        {
          "name": "stdout",
          "output_type": "stream",
          "text": [
            "Pliegue 1:\n",
            "Tamaño del conjunto de entrenamiento: 29165\n",
            "Tamaño del conjunto de prueba: 7292\n",
            "\n",
            "\n",
            "Pliegue 2:\n",
            "Tamaño del conjunto de entrenamiento: 29165\n",
            "Tamaño del conjunto de prueba: 7292\n",
            "\n",
            "\n",
            "Pliegue 3:\n",
            "Tamaño del conjunto de entrenamiento: 29166\n",
            "Tamaño del conjunto de prueba: 7291\n",
            "\n",
            "\n",
            "Pliegue 4:\n",
            "Tamaño del conjunto de entrenamiento: 29166\n",
            "Tamaño del conjunto de prueba: 7291\n",
            "\n",
            "\n",
            "Pliegue 5:\n",
            "Tamaño del conjunto de entrenamiento: 29166\n",
            "Tamaño del conjunto de prueba: 7291\n",
            "\n",
            "\n"
          ]
        }
      ],
      "source": [
        "#Arreglos para guardar los datos de K-fold\n",
        "list_X_train = []\n",
        "list_X_test = []\n",
        "list_y_train = []\n",
        "list_y_test = []\n",
        "#División de índices por k-fold\n",
        "num_pliegues = 5\n",
        "kf = KFold(n_splits=num_pliegues, shuffle=True, random_state=42)\n",
        "for i, (train_indices, test_indices) in enumerate(kf.split(X)):\n",
        "    X_entrenamiento, X_prueba = X[train_indices], X[test_indices]\n",
        "    y_entrenamiento, y_prueba = y[train_indices], y[test_indices]\n",
        "\n",
        "    # Imprimir información sobre el pliegue actual\n",
        "    print(f\"Pliegue {i + 1}:\")\n",
        "    print(f\"Tamaño del conjunto de entrenamiento: {len(X_entrenamiento)}\")\n",
        "    print(f\"Tamaño del conjunto de prueba: {len(X_prueba)}\")\n",
        "    print(\"\\n\")\n",
        "    list_X_train.append(X_entrenamiento)\n",
        "    list_X_test.append(X_prueba)\n",
        "    list_y_train.append(y_entrenamiento)\n",
        "    list_y_test.append(y_prueba)"
      ]
    },
    {
      "cell_type": "markdown",
      "metadata": {
        "id": "7j4cwvLwVrqF"
      },
      "source": [
        "## Funciones para entrenar modelos y obtener métricas"
      ]
    },
    {
      "cell_type": "code",
      "execution_count": 5,
      "metadata": {
        "id": "1t2XxtLbVrqG"
      },
      "outputs": [],
      "source": [
        "#Función de entrenamiento y prueba para el modelo\n",
        "def train_test_modelo(modelo, X_train, y_train, X_test, y_test):\n",
        "\tmodelo.fit(X_train,y_train)\n",
        "\tpred_train = modelo.predict(X_train)\n",
        "\tconfmat_train = confusion_matrix(y_train, pred_train)\n",
        "\tpred_test = modelo.predict(X_test)\n",
        "\tconfmat_test = confusion_matrix(y_test, pred_test)\n",
        "\treturn confmat_train, confmat_test\n"
      ]
    },
    {
      "cell_type": "code",
      "execution_count": 6,
      "metadata": {
        "id": "nVQrcEfPVrqG"
      },
      "outputs": [],
      "source": [
        "def obtener_metricas_confmat(confmat):\n",
        "\tTP = confmat[1, 1]\n",
        "\tTN = confmat[0, 0]\n",
        "\tFP = confmat[0, 1]\n",
        "\tFN = confmat[1, 0]\n",
        "\taccuracy = (TP + TN) / (TP + TN + FP + FN)\n",
        "\tprecision = TP / (TP + FP)\n",
        "\trecall = TP / (TP + FN)\n",
        "\tspecificity = TN / (TN + FP)\n",
        "\tnombres_columnas = ['TP','TN','FP','FN','accuracy','precision','recall','specificity']\n",
        "\tmetricas = pd.DataFrame([[TP,TN,FP,FN,accuracy,precision,recall,specificity]], columns=nombres_columnas)\n",
        "\treturn metricas\n"
      ]
    },
    {
      "cell_type": "markdown",
      "metadata": {},
      "source": [
        "## Prueba de SVM con kernel rbf"
      ]
    },
    {
      "cell_type": "code",
      "execution_count": 11,
      "metadata": {
        "id": "v1qyI2QwVrqI"
      },
      "outputs": [],
      "source": [
        "#Máquina de vectores de soporte\n",
        "modelo_svm = svm.SVC(kernel='rbf', C=1.0, gamma='scale')"
      ]
    },
    {
      "cell_type": "code",
      "execution_count": 12,
      "metadata": {
        "id": "xoykJMOQV6v4"
      },
      "outputs": [],
      "source": [
        "modelo = modelo_svm\n",
        "i = 0\n",
        "X_train = list_X_train[i]\n",
        "y_train = list_y_train[i]\n",
        "X_test = list_X_test[i]\n",
        "y_test = list_y_test[i]\n",
        "modelo.fit(X_train,y_train)\n",
        "pred_train = modelo.predict(X_train)\n",
        "confmat_train = confusion_matrix(y_train, pred_train)\n",
        "pred_test = modelo.predict(X_test)\n",
        "confmat_test = confusion_matrix(y_test, pred_test)"
      ]
    },
    {
      "cell_type": "code",
      "execution_count": 13,
      "metadata": {
        "id": "0OMEZaDHWEc9"
      },
      "outputs": [],
      "source": [
        "metricas_train = obtener_metricas_confmat(confmat_train)\n",
        "metricas_test = obtener_metricas_confmat(confmat_test)"
      ]
    },
    {
      "cell_type": "code",
      "execution_count": 14,
      "metadata": {
        "colab": {
          "base_uri": "https://localhost:8080/"
        },
        "id": "m5V7G4naVrqI",
        "outputId": "e442e074-bfba-42d9-a88e-be5393175a9a"
      },
      "outputs": [
        {
          "name": "stdout",
          "output_type": "stream",
          "text": [
            "Métricas de predicción con datos de entrenamiento:\n",
            "     TP     TN    FP     FN  accuracy  precision    recall  specificity\n",
            "0  1814  15467  1555  10329  0.592525   0.538439  0.149386     0.908648\n",
            "\n",
            "Métricas de predicción con datos de prueba:\n",
            "    TP    TN   FP    FN  accuracy  precision    recall  specificity\n",
            "0  456  3768  375  2693  0.579265   0.548736  0.144808     0.909486\n"
          ]
        }
      ],
      "source": [
        "print(f'Métricas de predicción con datos de entrenamiento:')\n",
        "print(metricas_train)\n",
        "print(f'\\nMétricas de predicción con datos de prueba:')\n",
        "print(metricas_test)"
      ]
    },
    {
      "cell_type": "markdown",
      "metadata": {},
      "source": [
        "### Los resultados no son alentadores, por lo tanto no se siguió con el K-fold validation"
      ]
    },
    {
      "cell_type": "markdown",
      "metadata": {},
      "source": [
        "Métricas de predicción con datos de entrenamiento:\n",
        "     TP     TN    FP     FN  accuracy  precision    recall  specificity\n",
        "0  1814  15467  1555  10329  0.592525   0.538439  0.149386     0.908648\n",
        "\n",
        "Métricas de predicción con datos de prueba:\n",
        "    TP    TN   FP    FN  accuracy  precision    recall  specificity\n",
        "0  456  3768  375  2693  0.579265   0.548736  0.144808     0.909486"
      ]
    }
  ],
  "metadata": {
    "colab": {
      "provenance": []
    },
    "kernelspec": {
      "display_name": "BEDU",
      "language": "python",
      "name": "python3"
    },
    "language_info": {
      "codemirror_mode": {
        "name": "ipython",
        "version": 3
      },
      "file_extension": ".py",
      "mimetype": "text/x-python",
      "name": "python",
      "nbconvert_exporter": "python",
      "pygments_lexer": "ipython3",
      "version": "3.11.4"
    }
  },
  "nbformat": 4,
  "nbformat_minor": 0
}
